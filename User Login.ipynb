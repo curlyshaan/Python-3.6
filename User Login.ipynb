{
 "cells": [
  {
   "cell_type": "code",
   "execution_count": 2,
   "metadata": {},
   "outputs": [
    {
     "name": "stdout",
     "output_type": "stream",
     "text": [
      "What's your username? ········\n",
      "User Name : Shaan \n",
      "Enter your Password : ········\n",
      "Welcome!!!\n"
     ]
    }
   ],
   "source": [
    "# Python program to demonstrate working of\n",
    "# getpass.getuser()\n",
    "import getpass\n",
    " \n",
    "user = getpass.getpass(prompt='What\\'s your username? ')\n",
    " \n",
    "while True:\n",
    "    pwd = getpass.getpass(\"User Name : %s \\nEnter your Password : \" % user)\n",
    " \n",
    "    if pwd == 'abcd':\n",
    "        print (\"Welcome!!!\")\n",
    "        break\n",
    "    else:\n",
    "        print (\"The password you entered is incorrect.\")"
   ]
  },
  {
   "cell_type": "code",
   "execution_count": null,
   "metadata": {},
   "outputs": [],
   "source": []
  }
 ],
 "metadata": {
  "kernelspec": {
   "display_name": "Python 3",
   "language": "python",
   "name": "python3"
  },
  "language_info": {
   "codemirror_mode": {
    "name": "ipython",
    "version": 3
   },
   "file_extension": ".py",
   "mimetype": "text/x-python",
   "name": "python",
   "nbconvert_exporter": "python",
   "pygments_lexer": "ipython3",
   "version": "3.6.5"
  }
 },
 "nbformat": 4,
 "nbformat_minor": 2
}
