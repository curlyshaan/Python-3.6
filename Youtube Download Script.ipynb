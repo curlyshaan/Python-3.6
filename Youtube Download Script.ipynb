{
 "cells": [
  {
   "cell_type": "code",
   "execution_count": 21,
   "metadata": {},
   "outputs": [
    {
     "name": "stdout",
     "output_type": "stream",
     "text": [
      "Nickelback - Rockstar [OFFICIAL VIDEO] 4.77701473236 110011935 00:04:15 441804 26083 Roadrunner Records 255\n",
      "  4,201,370 Bytes [100.00%] received. Rate: [  60 KB/s].  ETA: [0 secs]    \r"
     ]
    },
    {
     "data": {
      "text/plain": [
       "'Nickelback - Rockstar [OFFICIAL VIDEO].webm'"
      ]
     },
     "execution_count": 21,
     "metadata": {},
     "output_type": "execute_result"
    }
   ],
   "source": [
    "#Youtube downloading script\n",
    "\n",
    "import pafy\n",
    "\n",
    "url=\"https://www.youtube.com/watch?v=DmeUuoxyt_E\"\n",
    "\n",
    "print(video.title, video.rating, video.viewcount, video.duration, video.likes, video.dislikes, video.author, video.length)\n",
    "\n",
    "video=pafy.new(url)\n",
    "\n",
    "ytv=video.getbest()\n",
    "ytv.download() #video download\n"
   ]
  },
  {
   "cell_type": "code",
   "execution_count": 22,
   "metadata": {},
   "outputs": [
    {
     "name": "stdout",
     "output_type": "stream",
     "text": [
      "50k webm 1589992\n",
      "70k webm 2110932\n",
      "128k m4a 4042979\n",
      "128k webm 4041672\n",
      "160k webm 4201370\n"
     ]
    }
   ],
   "source": [
    "\n",
    "bestaudio = video.getbestaudio()\n",
    "\n",
    "bestaudio.download() #audio download\n"
   ]
  },
  {
   "cell_type": "code",
   "execution_count": null,
   "metadata": {},
   "outputs": [],
   "source": []
  }
 ],
 "metadata": {
  "kernelspec": {
   "display_name": "Python 3",
   "language": "python",
   "name": "python3"
  },
  "language_info": {
   "codemirror_mode": {
    "name": "ipython",
    "version": 3
   },
   "file_extension": ".py",
   "mimetype": "text/x-python",
   "name": "python",
   "nbconvert_exporter": "python",
   "pygments_lexer": "ipython3",
   "version": "3.6.5"
  }
 },
 "nbformat": 4,
 "nbformat_minor": 2
}
