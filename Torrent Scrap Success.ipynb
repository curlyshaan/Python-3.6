{
 "cells": [
  {
   "cell_type": "code",
   "execution_count": 116,
   "metadata": {},
   "outputs": [],
   "source": [
    "from os.path import basename\n",
    "from urllib.parse import urljoin\n",
    "from lxml import html\n",
    "import bs4\n",
    "\n",
    "import requests\n",
    "base_url = 'https://toptech360.com/friends-season-1-10-hdtv-torrent-s01-s10-720p/'  #replace urls with .torrent files\n",
    "page = requests.get(base_url).text\n",
    "doc = bs4.BeautifulSoup(page,'lxml')\n"
   ]
  },
  {
   "cell_type": "code",
   "execution_count": 117,
   "metadata": {},
   "outputs": [],
   "source": [
    "re=1\n",
    "for link in doc.findAll('a', href=True):\n",
    "    if(link['href'].endswith('.torrent')):\n",
    "        \n",
    "        print(link['href'])\n",
    "        with open(\"C:/Users/Sai Shanoor/\" +str(re), 'wb') as f:            \n",
    "            data = requests.get(link).content\n",
    "            f.write(data) \n",
    "            re+=1\n",
    "f.close() \n",
    "        "
   ]
  },
  {
   "cell_type": "code",
   "execution_count": null,
   "metadata": {},
   "outputs": [],
   "source": []
  }
 ],
 "metadata": {
  "kernelspec": {
   "display_name": "Python 3",
   "language": "python",
   "name": "python3"
  },
  "language_info": {
   "codemirror_mode": {
    "name": "ipython",
    "version": 3
   },
   "file_extension": ".py",
   "mimetype": "text/x-python",
   "name": "python",
   "nbconvert_exporter": "python",
   "pygments_lexer": "ipython3",
   "version": "3.6.5"
  }
 },
 "nbformat": 4,
 "nbformat_minor": 2
}
